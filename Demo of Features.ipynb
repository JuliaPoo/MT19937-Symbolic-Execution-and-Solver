{
 "cells": [
  {
   "cell_type": "code",
   "execution_count": 1,
   "metadata": {},
   "outputs": [],
   "source": [
    "import random\n",
    "import time\n",
    "import copy\n",
    "\n",
    "# Import symbolic execution\n",
    "from MT19937 import MT19937, MT19937_symbolic\n",
    "\n",
    "# Import XorSolver\n",
    "from XorSolver import XorSolver"
   ]
  },
  {
   "cell_type": "markdown",
   "metadata": {},
   "source": [
    "## Consistency between MT19937 and MT19937_symbolic classes\n"
   ]
  },
  {
   "cell_type": "code",
   "execution_count": 2,
   "metadata": {},
   "outputs": [
    {
     "name": "stdout",
     "output_type": "stream",
     "text": [
      "Time taken: 2.5949084758758545s\n"
     ]
    }
   ],
   "source": [
    "# Init MT199937 symbolic\n",
    "rng_sym = MT19937_symbolic()\n",
    "\n",
    "# Init state: list of 624 32 bit numbers, as per MT19937\n",
    "state = list(random.getstate()[1][:-1])\n",
    "\n",
    "# Init MT19937 with state\n",
    "rng = MT19937(state.copy())\n",
    "\n",
    "t = time.time()\n",
    "\n",
    "for _ in range(1000):\n",
    "    \n",
    "    # Get random number n\n",
    "    n = rng()\n",
    "    \n",
    "    # Get symbolic representation of n\n",
    "    n_sym = rng_sym()\n",
    "    \n",
    "    # Check symbolic execution is correct\n",
    "    assert n == rng_sym.cast_num(state, n_sym)\n",
    "    \n",
    "print(\"Time taken: {}s\".format(time.time() - t))\n",
    "\n",
    "# > Time taken: 2.27s with cast_num\n",
    "# > Time taken: 0.12s without cast_num"
   ]
  },
  {
   "cell_type": "markdown",
   "metadata": {},
   "source": [
    "## MT19937 Cloning of Python's random library getrandbits(4) with precomputed matrix\n",
    "\n",
    "Precomputed matrix only support nbits=[4,8,12,16,20,24,28,32]. Code below only uses only nbits=4 bits of MT19937 output"
   ]
  },
  {
   "cell_type": "code",
   "execution_count": 3,
   "metadata": {},
   "outputs": [
    {
     "name": "stdout",
     "output_type": "stream",
     "text": [
      "Time taken: 1.4259557723999023s\n",
      "[*] Cloning successful!\n"
     ]
    }
   ],
   "source": [
    "# Init python's getrandbits with 4 bits\n",
    "nbits = 4\n",
    "rng = lambda: random.getrandbits(nbits)\n",
    "\n",
    "# Collecting data\n",
    "eqns = []\n",
    "n_test = []\n",
    "for _ in range(624*32//nbits):\n",
    "    # Get random number from rng and save for later testing\n",
    "    n = rng()\n",
    "    n_test.append(n)\n",
    "\n",
    "t = time.time()\n",
    "\n",
    "# Cloning MT19937 from data\n",
    "rng_clone = MT19937(state_from_data = (n_test, nbits))\n",
    "\n",
    "print(\"Time taken: {}s\".format(time.time() - t))\n",
    "\n",
    "# Test if cloning has been successful\n",
    "for n in n_test:\n",
    "    assert n == rng_clone() >> (32-nbits), \"Clone failed!\"\n",
    "    \n",
    "print(\"[*] Cloning successful!\")"
   ]
  },
  {
   "cell_type": "markdown",
   "metadata": {},
   "source": [
    "## MT19937 Cloning of Python's random library getrandbits(32) using Python-only solver\n",
    "\n",
    "Uses all 32 bits of MT19937"
   ]
  },
  {
   "cell_type": "code",
   "execution_count": 4,
   "metadata": {},
   "outputs": [],
   "source": [
    "### Creating the equations to solve\n",
    "\n",
    "# Init python's getrandbits with 32 bits\n",
    "rng = lambda: random.getrandbits(32)\n",
    "\n",
    "# Init MT199937 symbolic\n",
    "rng_sym = MT19937_symbolic()\n",
    "\n",
    "# Build system of equations\n",
    "eqns = []\n",
    "n_test = []\n",
    "for _ in range(624):\n",
    "    \n",
    "    # Get random number from rng and save for later testing\n",
    "    n = rng()\n",
    "    n_test.append(n)\n",
    "    \n",
    "    # Split n into binary (A list of bools)\n",
    "    eqn_rhs_list = rng_sym._int2bits(n)\n",
    "    \n",
    "    # Get symbolic representation of n\n",
    "    eqn_lhs_list = rng_sym()\n",
    "    \n",
    "    # Add to eqns\n",
    "    for lhs,rhs in zip(eqn_lhs_list, eqn_rhs_list):\n",
    "        eqns.append([lhs,rhs])"
   ]
  },
  {
   "cell_type": "code",
   "execution_count": 5,
   "metadata": {},
   "outputs": [
    {
     "name": "stdout",
     "output_type": "stream",
     "text": [
      "Time taken to solve: 112.22281908988953s\n",
      "[*] Cloning successful!\n"
     ]
    }
   ],
   "source": [
    "### Using the python only solver XorSolver.solve\n",
    "\n",
    "nvars = 624*32\n",
    "eqns_copy = copy.deepcopy(eqns)\n",
    "\n",
    "# Initialise solver with eqns\n",
    "solver = XorSolver(eqns_copy, nvars)\n",
    "\n",
    "t = time.time()\n",
    "\n",
    "# Solve eqns. Takes aroung 100s to solve\n",
    "# verbose=False to suppress output\n",
    "solver.solve(verbose=False)\n",
    "\n",
    "print(\"Time taken to solve: {}s\".format(time.time() - t))\n",
    "\n",
    "# Clone MT19937 with solver.eqns (fully solved by now)\n",
    "rng_clone = MT19937(state_from_solved_eqns = solver.eqns)\n",
    "\n",
    "# Test if cloning has been successful\n",
    "for n in n_test:\n",
    "    assert n == rng_clone(), \"Clone failed!\"\n",
    "    \n",
    "print(\"[*] Cloning successful!\")"
   ]
  },
  {
   "cell_type": "markdown",
   "metadata": {},
   "source": [
    "## MT19937 Cloning of Python's random library getrandbits(16) using cryptominisat\n",
    "\n",
    "Using Python wrapper of cryptominisat available on XorSolver. Uses only 16 bits of MT19937 output"
   ]
  },
  {
   "cell_type": "code",
   "execution_count": 6,
   "metadata": {},
   "outputs": [],
   "source": [
    "### Creating the equations to solve\n",
    "\n",
    "# Init python's getrandbits with 16 bits\n",
    "nbits = 16\n",
    "rng = lambda: random.getrandbits(nbits)\n",
    "\n",
    "# Init MT199937 symbolic\n",
    "rng_sym = MT19937_symbolic()\n",
    "\n",
    "# Build system of equations\n",
    "eqns = []\n",
    "n_test = []\n",
    "for _ in range(624*32//nbits):\n",
    "    \n",
    "    # Get random number from rng and save for later testing\n",
    "    n = rng()\n",
    "    n_test.append(n)\n",
    "    \n",
    "    # Split n into binary (A list of bools) and only take 8 bits\n",
    "    eqn_rhs_list = rng_sym._int2bits(n, bits=nbits)\n",
    "    \n",
    "    # Get symbolic representation of n\n",
    "    eqn_lhs_list = rng_sym()\n",
    "    \n",
    "    # Add to eqns\n",
    "    for lhs,rhs in zip(eqn_lhs_list, eqn_rhs_list):\n",
    "        eqns.append([lhs,rhs])"
   ]
  },
  {
   "cell_type": "code",
   "execution_count": 7,
   "metadata": {
    "scrolled": true
   },
   "outputs": [
    {
     "name": "stdout",
     "output_type": "stream",
     "text": [
      "Time taken to solve: 245.00420260429382s\n",
      "[*] Cloning successful!\n"
     ]
    }
   ],
   "source": [
    "### Using XorSolver's cryptominisat wrapper\n",
    "\n",
    "nvars = 624*32\n",
    "eqns_copy = copy.deepcopy(eqns)\n",
    "\n",
    "# Initialise solver with eqns\n",
    "solver = XorSolver(eqns_copy, nvars)\n",
    "\n",
    "t = time.time()\n",
    "\n",
    "# Solve eqns, takes about 250s without m4ri\n",
    "cryptominisat_path = r\".\\bin\\cryptominisat5_win10_x64_no-m4ri.exe\"\n",
    "cnf_file = \"test.cnf\"\n",
    "solver.cryptominisat_solve(cryptominisat_path, cnf_file, verbose=0) # Disable all output with verbose=0\n",
    "\n",
    "print(\"Time taken to solve: {}s\".format(time.time() - t))\n",
    "\n",
    "# Clone MT19937 with solver.eqns (fully solved by now)\n",
    "rng_clone = MT19937(state_from_solved_eqns = solver.eqns)\n",
    "\n",
    "# Test if cloning has been successful\n",
    "for n in n_test:\n",
    "    assert n == rng_clone() >> (32-nbits), \"Clone failed!\"\n",
    "    \n",
    "print(\"[*] Cloning successful!\")"
   ]
  },
  {
   "cell_type": "markdown",
   "metadata": {},
   "source": [
    "## Reversing MT19937 State with MT19937.reverse_states\n",
    "\n",
    "A functionality in progress. There are still bugs with it. For now it seems to work sometimes. In the event that it fails, simply choose a different chunk of data and reverse the state from there."
   ]
  },
  {
   "cell_type": "code",
   "execution_count": 80,
   "metadata": {},
   "outputs": [
    {
     "name": "stdout",
     "output_type": "stream",
     "text": [
      "Reversing failed. Predicted 500/10624 numbers wrong\n"
     ]
    }
   ],
   "source": [
    "# Initialise rng (random.getrandbits)\n",
    "rng = lambda: random.getrandbits(32)\n",
    "\n",
    "# Increment state of random object (random.getstate()) 10000 times\n",
    "# Save output for testing later\n",
    "n_test = []\n",
    "shift = 10000\n",
    "for _ in range(shift):\n",
    "    n = rng()\n",
    "    n_test.append(n)\n",
    "\n",
    "# save next 624 numbers for cloning\n",
    "data = []\n",
    "for _ in range(624):\n",
    "    n = rng()\n",
    "    n_test.append(n)\n",
    "    data.append(n)\n",
    "    \n",
    "# rng's state has incremented 10000 times before we got the data we need to clone\n",
    "# We want to recover rng's original state by \n",
    "# cloning rng's state after it was incremented 10000 times and\n",
    "# Reversing the state by 10000 steps\n",
    "\n",
    "# Clone rng's current state\n",
    "rng_clone = MT19937(state_from_data = (data, 32))\n",
    "\n",
    "# Reverse state by 10000\n",
    "rng_clone.reverse_states(shift)\n",
    "\n",
    "# Test if cloning has been successful\n",
    "# Does not work all the time\n",
    "n_wrong = []\n",
    "for idx, n in enumerate(n_test):\n",
    "    if rng_clone() != n:\n",
    "        n_wrong.append(idx)\n",
    "if len(n_wrong) == 0:\n",
    "    print(\"Reversing successful!\")\n",
    "else:\n",
    "    print(\"Reversing failed. Predicted {}/{} numbers wrong\".format(len(n_wrong), len(n_test)))"
   ]
  },
  {
   "cell_type": "code",
   "execution_count": 88,
   "metadata": {},
   "outputs": [
    {
     "name": "stdout",
     "output_type": "stream",
     "text": [
      "Offset used: 2349\n",
      "Reversing successful!\n"
     ]
    }
   ],
   "source": [
    "## If the above fails, forward rng_clone a few states and reverse\n",
    "\n",
    "rng_clone = MT19937(state_from_data = (data, 32))\n",
    "\n",
    "offset = random.randint(0, 624*10)\n",
    "print('Offset used:', offset)\n",
    "for _ in range(offset):\n",
    "    rng_clone()\n",
    "\n",
    "rng_clone.reverse_states(shift + offset)\n",
    "\n",
    "# Test if cloning has worked.\n",
    "# Might have to repeat a few times for it to work\n",
    "n_wrong = []\n",
    "for idx, n in enumerate(n_test):\n",
    "    if rng_clone() != n:\n",
    "        n_wrong.append(idx)\n",
    "if len(n_wrong) == 0:\n",
    "    print(\"Reversing successful!\")\n",
    "else:\n",
    "    print(\"Reversing failed. Predicted {}/{} numbers wrong\".format(len(n_wrong), len(n_test)))"
   ]
  },
  {
   "cell_type": "code",
   "execution_count": null,
   "metadata": {},
   "outputs": [],
   "source": []
  },
  {
   "cell_type": "code",
   "execution_count": null,
   "metadata": {},
   "outputs": [],
   "source": []
  }
 ],
 "metadata": {
  "kernelspec": {
   "display_name": "Python 3",
   "language": "python",
   "name": "python3"
  },
  "language_info": {
   "codemirror_mode": {
    "name": "ipython",
    "version": 3
   },
   "file_extension": ".py",
   "mimetype": "text/x-python",
   "name": "python",
   "nbconvert_exporter": "python",
   "pygments_lexer": "ipython3",
   "version": "3.8.3"
  }
 },
 "nbformat": 4,
 "nbformat_minor": 4
}
